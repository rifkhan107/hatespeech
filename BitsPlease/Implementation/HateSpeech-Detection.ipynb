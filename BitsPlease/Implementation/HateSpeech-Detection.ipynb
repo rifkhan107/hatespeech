{
 "cells": [
  {
   "cell_type": "code",
   "execution_count": 1,
   "id": "0b20ffba",
   "metadata": {},
   "outputs": [],
   "source": [
    "import pandas as pd\n",
    "import seaborn as sns\n",
    "import matplotlib.pyplot as plt\n",
    "from sklearn.feature_extraction.text import TfidfVectorizer\n",
    "from sklearn.model_selection import train_test_split\n",
    "from sklearn.naive_bayes import MultinomialNB\n",
    "from sklearn.metrics import classification_report"
   ]
  },
  {
   "cell_type": "code",
   "execution_count": 2,
   "id": "ddaa0922",
   "metadata": {},
   "outputs": [
    {
     "data": {
      "text/html": [
       "<div>\n",
       "<style scoped>\n",
       "    .dataframe tbody tr th:only-of-type {\n",
       "        vertical-align: middle;\n",
       "    }\n",
       "\n",
       "    .dataframe tbody tr th {\n",
       "        vertical-align: top;\n",
       "    }\n",
       "\n",
       "    .dataframe thead th {\n",
       "        text-align: right;\n",
       "    }\n",
       "</style>\n",
       "<table border=\"1\" class=\"dataframe\">\n",
       "  <thead>\n",
       "    <tr style=\"text-align: right;\">\n",
       "      <th></th>\n",
       "      <th>PhraseNo</th>\n",
       "      <th>Phrase</th>\n",
       "      <th>IsHateSpeech</th>\n",
       "    </tr>\n",
       "  </thead>\n",
       "  <tbody>\n",
       "    <tr>\n",
       "      <th>0</th>\n",
       "      <td>1</td>\n",
       "      <td>මේ බැල්ලි කොටින්ගේ ගු කනකොට අපහසුවක් දැනුනෙ නැ...</td>\n",
       "      <td>YES</td>\n",
       "    </tr>\n",
       "    <tr>\n",
       "      <th>1</th>\n",
       "      <td>2</td>\n",
       "      <td>මන් ඊයේ මුස්ලිම් ඩෑල් එකක් එක්ක සෙල්ෆියක් ගත්ත...</td>\n",
       "      <td>YES</td>\n",
       "    </tr>\n",
       "    <tr>\n",
       "      <th>2</th>\n",
       "      <td>3</td>\n",
       "      <td>සංහිදියාවට අවුලක් වෙයි ද</td>\n",
       "      <td>NO</td>\n",
       "    </tr>\n",
       "    <tr>\n",
       "      <th>3</th>\n",
       "      <td>4</td>\n",
       "      <td>.කටින් පුරසාරම් දොඩන අපි සිංහලයො විදියට ලැජ්ජා...</td>\n",
       "      <td>YES</td>\n",
       "    </tr>\n",
       "    <tr>\n",
       "      <th>4</th>\n",
       "      <td>5</td>\n",
       "      <td>මචන් ඔය මගුල නවත්තලා කොන්දක් තියෙනවානම් පුලුවන...</td>\n",
       "      <td>YES</td>\n",
       "    </tr>\n",
       "  </tbody>\n",
       "</table>\n",
       "</div>"
      ],
      "text/plain": [
       "   PhraseNo                                             Phrase IsHateSpeech\n",
       "0         1  මේ බැල්ලි කොටින්ගේ ගු කනකොට අපහසුවක් දැනුනෙ නැ...          YES\n",
       "1         2  මන් ඊයේ මුස්ලිම් ඩෑල් එකක් එක්ක සෙල්ෆියක් ගත්ත...          YES\n",
       "2         3                           සංහිදියාවට අවුලක් වෙයි ද           NO\n",
       "3         4  .කටින් පුරසාරම් දොඩන අපි සිංහලයො විදියට ලැජ්ජා...          YES\n",
       "4         5  මචන් ඔය මගුල නවත්තලා කොන්දක් තියෙනවානම් පුලුවන...          YES"
      ]
     },
     "execution_count": 2,
     "metadata": {},
     "output_type": "execute_result"
    }
   ],
   "source": [
    "path = 'Sinhala_Singlish_Hate_Speech.csv'\n",
    "df = pd.read_csv(path)\n",
    "df.head()"
   ]
  },
  {
   "cell_type": "code",
   "execution_count": 3,
   "id": "1b4f3b70",
   "metadata": {},
   "outputs": [
    {
     "data": {
      "text/html": [
       "<div>\n",
       "<style scoped>\n",
       "    .dataframe tbody tr th:only-of-type {\n",
       "        vertical-align: middle;\n",
       "    }\n",
       "\n",
       "    .dataframe tbody tr th {\n",
       "        vertical-align: top;\n",
       "    }\n",
       "\n",
       "    .dataframe thead th {\n",
       "        text-align: right;\n",
       "    }\n",
       "</style>\n",
       "<table border=\"1\" class=\"dataframe\">\n",
       "  <thead>\n",
       "    <tr style=\"text-align: right;\">\n",
       "      <th></th>\n",
       "      <th>Phrase</th>\n",
       "      <th>IsHateSpeech</th>\n",
       "    </tr>\n",
       "  </thead>\n",
       "  <tbody>\n",
       "    <tr>\n",
       "      <th>0</th>\n",
       "      <td>මේ බැල්ලි කොටින්ගේ ගු කනකොට අපහසුවක් දැනුනෙ නැ...</td>\n",
       "      <td>YES</td>\n",
       "    </tr>\n",
       "    <tr>\n",
       "      <th>1</th>\n",
       "      <td>මන් ඊයේ මුස්ලිම් ඩෑල් එකක් එක්ක සෙල්ෆියක් ගත්ත...</td>\n",
       "      <td>YES</td>\n",
       "    </tr>\n",
       "    <tr>\n",
       "      <th>2</th>\n",
       "      <td>සංහිදියාවට අවුලක් වෙයි ද</td>\n",
       "      <td>NO</td>\n",
       "    </tr>\n",
       "    <tr>\n",
       "      <th>3</th>\n",
       "      <td>.කටින් පුරසාරම් දොඩන අපි සිංහලයො විදියට ලැජ්ජා...</td>\n",
       "      <td>YES</td>\n",
       "    </tr>\n",
       "    <tr>\n",
       "      <th>4</th>\n",
       "      <td>මචන් ඔය මගුල නවත්තලා කොන්දක් තියෙනවානම් පුලුවන...</td>\n",
       "      <td>YES</td>\n",
       "    </tr>\n",
       "  </tbody>\n",
       "</table>\n",
       "</div>"
      ],
      "text/plain": [
       "                                              Phrase IsHateSpeech\n",
       "0  මේ බැල්ලි කොටින්ගේ ගු කනකොට අපහසුවක් දැනුනෙ නැ...          YES\n",
       "1  මන් ඊයේ මුස්ලිම් ඩෑල් එකක් එක්ක සෙල්ෆියක් ගත්ත...          YES\n",
       "2                           සංහිදියාවට අවුලක් වෙයි ද           NO\n",
       "3  .කටින් පුරසාරම් දොඩන අපි සිංහලයො විදියට ලැජ්ජා...          YES\n",
       "4  මචන් ඔය මගුල නවත්තලා කොන්දක් තියෙනවානම් පුලුවන...          YES"
      ]
     },
     "execution_count": 3,
     "metadata": {},
     "output_type": "execute_result"
    }
   ],
   "source": [
    "##removing unwanted column\n",
    "df = df.drop(['PhraseNo'], axis=1)\n",
    "df.head()"
   ]
  },
  {
   "cell_type": "code",
   "execution_count": 4,
   "id": "ad07e9cb",
   "metadata": {},
   "outputs": [],
   "source": [
    "## Exploratory Data Analysis¶"
   ]
  },
  {
   "cell_type": "code",
   "execution_count": 5,
   "id": "e54dbd66",
   "metadata": {},
   "outputs": [
    {
     "name": "stdout",
     "output_type": "stream",
     "text": [
      "found 2500 datas\n"
     ]
    }
   ],
   "source": [
    "print('found %s datas'% len(df))"
   ]
  },
  {
   "cell_type": "code",
   "execution_count": 6,
   "id": "b67973d7",
   "metadata": {},
   "outputs": [
    {
     "data": {
      "text/plain": [
       "NO     1397\n",
       "YES    1103\n",
       "Name: IsHateSpeech, dtype: int64"
      ]
     },
     "execution_count": 6,
     "metadata": {},
     "output_type": "execute_result"
    }
   ],
   "source": [
    "df['IsHateSpeech'].value_counts()"
   ]
  },
  {
   "cell_type": "code",
   "execution_count": 7,
   "id": "050db7e8",
   "metadata": {},
   "outputs": [],
   "source": [
    "##renaming the columns\n",
    "df = df.rename(columns={'Phrase': 'text', 'IsHateSpeech': 'label'})"
   ]
  },
  {
   "cell_type": "code",
   "execution_count": 8,
   "id": "d01bde6b",
   "metadata": {},
   "outputs": [
    {
     "data": {
      "text/html": [
       "<div>\n",
       "<style scoped>\n",
       "    .dataframe tbody tr th:only-of-type {\n",
       "        vertical-align: middle;\n",
       "    }\n",
       "\n",
       "    .dataframe tbody tr th {\n",
       "        vertical-align: top;\n",
       "    }\n",
       "\n",
       "    .dataframe thead th {\n",
       "        text-align: right;\n",
       "    }\n",
       "</style>\n",
       "<table border=\"1\" class=\"dataframe\">\n",
       "  <thead>\n",
       "    <tr style=\"text-align: right;\">\n",
       "      <th></th>\n",
       "      <th>text</th>\n",
       "      <th>label</th>\n",
       "    </tr>\n",
       "  </thead>\n",
       "  <tbody>\n",
       "    <tr>\n",
       "      <th>0</th>\n",
       "      <td>මේ බැල්ලි කොටින්ගේ ගු කනකොට අපහසුවක් දැනුනෙ නැ...</td>\n",
       "      <td>YES</td>\n",
       "    </tr>\n",
       "    <tr>\n",
       "      <th>1</th>\n",
       "      <td>මන් ඊයේ මුස්ලිම් ඩෑල් එකක් එක්ක සෙල්ෆියක් ගත්ත...</td>\n",
       "      <td>YES</td>\n",
       "    </tr>\n",
       "    <tr>\n",
       "      <th>2</th>\n",
       "      <td>සංහිදියාවට අවුලක් වෙයි ද</td>\n",
       "      <td>NO</td>\n",
       "    </tr>\n",
       "    <tr>\n",
       "      <th>3</th>\n",
       "      <td>.කටින් පුරසාරම් දොඩන අපි සිංහලයො විදියට ලැජ්ජා...</td>\n",
       "      <td>YES</td>\n",
       "    </tr>\n",
       "    <tr>\n",
       "      <th>4</th>\n",
       "      <td>මචන් ඔය මගුල නවත්තලා කොන්දක් තියෙනවානම් පුලුවන...</td>\n",
       "      <td>YES</td>\n",
       "    </tr>\n",
       "  </tbody>\n",
       "</table>\n",
       "</div>"
      ],
      "text/plain": [
       "                                                text label\n",
       "0  මේ බැල්ලි කොටින්ගේ ගු කනකොට අපහසුවක් දැනුනෙ නැ...   YES\n",
       "1  මන් ඊයේ මුස්ලිම් ඩෑල් එකක් එක්ක සෙල්ෆියක් ගත්ත...   YES\n",
       "2                           සංහිදියාවට අවුලක් වෙයි ද    NO\n",
       "3  .කටින් පුරසාරම් දොඩන අපි සිංහලයො විදියට ලැජ්ජා...   YES\n",
       "4  මචන් ඔය මගුල නවත්තලා කොන්දක් තියෙනවානම් පුලුවන...   YES"
      ]
     },
     "execution_count": 8,
     "metadata": {},
     "output_type": "execute_result"
    }
   ],
   "source": [
    "df.head()"
   ]
  },
  {
   "cell_type": "code",
   "execution_count": 9,
   "id": "7e01e7c9",
   "metadata": {},
   "outputs": [],
   "source": [
    "##renaming the column values\n",
    "df['label'] = df['label'].map({'YES': 'Hate Speech', 'NO': 'Non-Hate Speech'})"
   ]
  },
  {
   "cell_type": "code",
   "execution_count": 10,
   "id": "9f0e3ceb",
   "metadata": {},
   "outputs": [
    {
     "data": {
      "text/html": [
       "<div>\n",
       "<style scoped>\n",
       "    .dataframe tbody tr th:only-of-type {\n",
       "        vertical-align: middle;\n",
       "    }\n",
       "\n",
       "    .dataframe tbody tr th {\n",
       "        vertical-align: top;\n",
       "    }\n",
       "\n",
       "    .dataframe thead th {\n",
       "        text-align: right;\n",
       "    }\n",
       "</style>\n",
       "<table border=\"1\" class=\"dataframe\">\n",
       "  <thead>\n",
       "    <tr style=\"text-align: right;\">\n",
       "      <th></th>\n",
       "      <th>text</th>\n",
       "      <th>label</th>\n",
       "    </tr>\n",
       "  </thead>\n",
       "  <tbody>\n",
       "    <tr>\n",
       "      <th>0</th>\n",
       "      <td>මේ බැල්ලි කොටින්ගේ ගු කනකොට අපහසුවක් දැනුනෙ නැ...</td>\n",
       "      <td>Hate Speech</td>\n",
       "    </tr>\n",
       "    <tr>\n",
       "      <th>1</th>\n",
       "      <td>මන් ඊයේ මුස්ලිම් ඩෑල් එකක් එක්ක සෙල්ෆියක් ගත්ත...</td>\n",
       "      <td>Hate Speech</td>\n",
       "    </tr>\n",
       "    <tr>\n",
       "      <th>2</th>\n",
       "      <td>සංහිදියාවට අවුලක් වෙයි ද</td>\n",
       "      <td>Non-Hate Speech</td>\n",
       "    </tr>\n",
       "    <tr>\n",
       "      <th>3</th>\n",
       "      <td>.කටින් පුරසාරම් දොඩන අපි සිංහලයො විදියට ලැජ්ජා...</td>\n",
       "      <td>Hate Speech</td>\n",
       "    </tr>\n",
       "    <tr>\n",
       "      <th>4</th>\n",
       "      <td>මචන් ඔය මගුල නවත්තලා කොන්දක් තියෙනවානම් පුලුවන...</td>\n",
       "      <td>Hate Speech</td>\n",
       "    </tr>\n",
       "  </tbody>\n",
       "</table>\n",
       "</div>"
      ],
      "text/plain": [
       "                                                text            label\n",
       "0  මේ බැල්ලි කොටින්ගේ ගු කනකොට අපහසුවක් දැනුනෙ නැ...      Hate Speech\n",
       "1  මන් ඊයේ මුස්ලිම් ඩෑල් එකක් එක්ක සෙල්ෆියක් ගත්ත...      Hate Speech\n",
       "2                           සංහිදියාවට අවුලක් වෙයි ද  Non-Hate Speech\n",
       "3  .කටින් පුරසාරම් දොඩන අපි සිංහලයො විදියට ලැජ්ජා...      Hate Speech\n",
       "4  මචන් ඔය මගුල නවත්තලා කොන්දක් තියෙනවානම් පුලුවන...      Hate Speech"
      ]
     },
     "execution_count": 10,
     "metadata": {},
     "output_type": "execute_result"
    }
   ],
   "source": [
    "df.head()"
   ]
  },
  {
   "cell_type": "code",
   "execution_count": 11,
   "id": "25996808",
   "metadata": {},
   "outputs": [],
   "source": [
    "# Preprocessing"
   ]
  },
  {
   "cell_type": "code",
   "execution_count": 12,
   "id": "0c925c58",
   "metadata": {},
   "outputs": [],
   "source": [
    "df = df.groupby('label').head(1000)"
   ]
  },
  {
   "cell_type": "code",
   "execution_count": 13,
   "id": "ba73a846",
   "metadata": {},
   "outputs": [
    {
     "data": {
      "image/png": "[encoded data removed]",
      "text/plain": [
       "<Figure size 640x480 with 1 Axes>"
      ]
     },
     "metadata": {},
     "output_type": "display_data"
    }
   ],
   "source": [
    "df_label = sns.countplot(x='label', data=df)\n",
    "df_label.set_xticklabels(df['label'].unique())\n",
    "plt.show()"
   ]
  },
  {
   "cell_type": "code",
   "execution_count": 14,
   "id": "695f5355",
   "metadata": {},
   "outputs": [
    {
     "data": {
      "text/plain": [
       "Hate Speech        1000\n",
       "Non-Hate Speech    1000\n",
       "Name: label, dtype: int64"
      ]
     },
     "execution_count": 14,
     "metadata": {},
     "output_type": "execute_result"
    }
   ],
   "source": [
    "df['label'].value_counts()"
   ]
  },
  {
   "cell_type": "code",
   "execution_count": 15,
   "id": "4fa75822",
   "metadata": {},
   "outputs": [],
   "source": [
    "#Feature Extraction using TF-IDF"
   ]
  },
  {
   "cell_type": "code",
   "execution_count": 16,
   "id": "c2a11868",
   "metadata": {},
   "outputs": [],
   "source": [
    "tfidf = TfidfVectorizer()\n",
    "X = tfidf.fit_transform(df['text'])\n",
    "y = df['label']"
   ]
  },
  {
   "cell_type": "code",
   "execution_count": 17,
   "id": "f291b85e",
   "metadata": {},
   "outputs": [],
   "source": [
    "#train test split"
   ]
  },
  {
   "cell_type": "code",
   "execution_count": 18,
   "id": "be425e7a",
   "metadata": {},
   "outputs": [],
   "source": [
    "X_train, X_test, y_train, y_test = train_test_split(X, y, test_size=0.2, random_state=42)"
   ]
  },
  {
   "cell_type": "code",
   "execution_count": 19,
   "id": "3026c49c",
   "metadata": {},
   "outputs": [],
   "source": [
    "#Build Model\n",
    "#Naive Bayes"
   ]
  },
  {
   "cell_type": "code",
   "execution_count": 20,
   "id": "22d35dfa",
   "metadata": {},
   "outputs": [
    {
     "data": {
      "text/plain": [
       "MultinomialNB()"
      ]
     },
     "execution_count": 20,
     "metadata": {},
     "output_type": "execute_result"
    }
   ],
   "source": [
    "clf_nb = MultinomialNB()\n",
    "clf_nb.fit(X_train, y_train)"
   ]
  },
  {
   "cell_type": "code",
   "execution_count": 21,
   "id": "2a23351d",
   "metadata": {},
   "outputs": [],
   "source": [
    "pred_nb = clf_nb.predict(X_test)"
   ]
  },
  {
   "cell_type": "code",
   "execution_count": 22,
   "id": "8669e8dc",
   "metadata": {},
   "outputs": [],
   "source": [
    "import pickle\n",
    "with open('my_model.pkl', 'wb') as f:\n",
    "     pickle.dump(clf_nb, f)"
   ]
  },
  {
   "cell_type": "code",
   "execution_count": 23,
   "id": "e3acc186",
   "metadata": {},
   "outputs": [],
   "source": [
    "f = open('my_model.pkl', 'rb')  # 'r' for reading; can be omitted\n",
    "mod = pickle.load(f)"
   ]
  },
  {
   "cell_type": "code",
   "execution_count": 24,
   "id": "5dbe79ce",
   "metadata": {},
   "outputs": [],
   "source": [
    "#Evaluation"
   ]
  },
  {
   "cell_type": "code",
   "execution_count": 25,
   "id": "2a295b91",
   "metadata": {},
   "outputs": [],
   "source": [
    "#Printing of Naive Bayes Report "
   ]
  },
  {
   "cell_type": "code",
   "execution_count": 22,
   "id": "ef11caea",
   "metadata": {},
   "outputs": [
    {
     "name": "stdout",
     "output_type": "stream",
     "text": [
      "                 precision    recall  f1-score   support\n",
      "\n",
      "    Hate Speech       0.75      0.71      0.73       217\n",
      "Non-Hate Speech       0.67      0.72      0.70       183\n",
      "\n",
      "       accuracy                           0.71       400\n",
      "      macro avg       0.71      0.71      0.71       400\n",
      "   weighted avg       0.71      0.71      0.71       400\n",
      "\n"
     ]
    }
   ],
   "source": [
    "print(classification_report(y_test,pred_nb))"
   ]
  },
  {
   "cell_type": "code",
   "execution_count": 27,
   "id": "d5ec0205",
   "metadata": {},
   "outputs": [
    {
     "data": {
      "text/plain": [
       "array(['Hate Speech'], dtype='<U15')"
      ]
     },
     "execution_count": 27,
     "metadata": {},
     "output_type": "execute_result"
    }
   ],
   "source": [
    "text = ['පලයං හුත්තෝ']\n",
    "text_features = tfidf.transform (text)\n",
    "predictions = mod.predict (text_features)\n",
    "predictions"
   ]
  },
  {
   "cell_type": "code",
   "execution_count": null,
   "id": "cee44ad4",
   "metadata": {},
   "outputs": [],
   "source": []
  }
 ],
 "metadata": {
  "kernelspec": {
   "display_name": "Python 3 (ipykernel)",
   "language": "python",
   "name": "python3"
  },
  "language_info": {
   "codemirror_mode": {
    "name": "ipython",
    "version": 3
   },
   "file_extension": ".py",
   "mimetype": "text/x-python",
   "name": "python",
   "nbconvert_exporter": "python",
   "pygments_lexer": "ipython3",
   "version": "3.9.13"
  }
 },
 "nbformat": 4,
 "nbformat_minor": 5
}
